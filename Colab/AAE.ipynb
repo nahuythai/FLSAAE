{
  "cells": [
    {
      "cell_type": "code",
      "execution_count": null,
      "metadata": {
        "colab": {
          "base_uri": "https://localhost:8080/"
        },
        "id": "P8bq7On4UHXc",
        "outputId": "893613fd-d690-4339-8a5a-d8daf18c601f"
      },
      "outputs": [
        {
          "name": "stdout",
          "output_type": "stream",
          "text": [
            "/content/drive/MyDrive/AAE/Adversarial-AutoEncoder\n"
          ]
        }
      ],
      "source": [
        "cd /content/drive/MyDrive/AAE/Adversarial-AutoEncoder/"
      ]
    },
    {
      "cell_type": "code",
      "source": [
        "from google.colab import drive\n",
        "drive.mount('/content/drive')\n"
      ],
      "metadata": {
        "colab": {
          "base_uri": "https://localhost:8080/"
        },
        "id": "omQz1HJjiGSP",
        "outputId": "91c3e09c-84f3-4cdb-a5e0-274bd090013a"
      },
      "execution_count": null,
      "outputs": [
        {
          "output_type": "stream",
          "name": "stdout",
          "text": [
            "Drive already mounted at /content/drive; to attempt to forcibly remount, call drive.mount(\"/content/drive\", force_remount=True).\n"
          ]
        }
      ]
    },
    {
      "cell_type": "code",
      "execution_count": null,
      "metadata": {
        "id": "5Kjc0iphUSrR"
      },
      "outputs": [],
      "source": [
        "!python3 semi_aae.py \"IDS2018_train_55.npy\" \"IDS2018_test_55.npy\" IDS2018 0.1"
      ]
    },
    {
      "cell_type": "code",
      "execution_count": null,
      "metadata": {
        "colab": {
          "base_uri": "https://localhost:8080/"
        },
        "id": "8XcKVR2g22Pz",
        "outputId": "0bdc0263-d1d3-4978-b042-0462954c3001"
      },
      "outputs": [
        {
          "name": "stdout",
          "output_type": "stream",
          "text": [
            "Train (3616, 40)\n",
            "Test (901228, 40)\n",
            "FPR:  [0.         0.02418922 1.        ]\n",
            "TPR:  [0.         0.88108891 1.        ]\n",
            "AUC:  0.9284498484290323\n",
            "ACC:  0.9284498484290323\n",
            "F1:  0.9248926963641975\n",
            "Recall:  0.8810889142370188\n",
            "Precision:  0.9732797948672692\n"
          ]
        }
      ],
      "source": [
        "!python3 random_forest.py \"Labeled_train.npy\" \"IDS2018_test_55.npy\" 39"
      ]
    },
    {
      "cell_type": "code",
      "execution_count": null,
      "metadata": {
        "id": "uR1TS38T27a_"
      },
      "outputs": [],
      "source": [
        "import matplotlib.pyplot as plt"
      ]
    },
    {
      "cell_type": "code",
      "execution_count": null,
      "metadata": {
        "id": "x3rmzPcK1xwC",
        "colab": {
          "base_uri": "https://localhost:8080/",
          "height": 234
        },
        "outputId": "ed65eb2b-87e1-4ac3-e974-9b3e80360573"
      },
      "outputs": [
        {
          "output_type": "error",
          "ename": "FileNotFoundError",
          "evalue": "ignored",
          "traceback": [
            "\u001b[0;31m---------------------------------------------------------------------------\u001b[0m",
            "\u001b[0;31mFileNotFoundError\u001b[0m                         Traceback (most recent call last)",
            "\u001b[0;32m<ipython-input-6-994f21bd3f01>\u001b[0m in \u001b[0;36m<module>\u001b[0;34m()\u001b[0m\n\u001b[0;32m----> 1\u001b[0;31m \u001b[0mlog\u001b[0m \u001b[0;34m=\u001b[0m \u001b[0mopen\u001b[0m\u001b[0;34m(\u001b[0m\u001b[0;34m'./Results/IDS2018/log/log.txt'\u001b[0m\u001b[0;34m)\u001b[0m\u001b[0;34m.\u001b[0m\u001b[0mreadlines\u001b[0m\u001b[0;34m(\u001b[0m\u001b[0;34m)\u001b[0m\u001b[0;34m\u001b[0m\u001b[0;34m\u001b[0m\u001b[0m\n\u001b[0m\u001b[1;32m      2\u001b[0m history = {\n\u001b[1;32m      3\u001b[0m     \u001b[0;34m\"ae_loss\"\u001b[0m\u001b[0;34m:\u001b[0m \u001b[0;34m[\u001b[0m\u001b[0;34m]\u001b[0m\u001b[0;34m,\u001b[0m\u001b[0;34m\u001b[0m\u001b[0;34m\u001b[0m\u001b[0m\n\u001b[1;32m      4\u001b[0m     \u001b[0;34m\"d_gauss_loss\"\u001b[0m\u001b[0;34m:\u001b[0m \u001b[0;34m[\u001b[0m\u001b[0;34m]\u001b[0m\u001b[0;34m,\u001b[0m\u001b[0;34m\u001b[0m\u001b[0;34m\u001b[0m\u001b[0m\n\u001b[1;32m      5\u001b[0m     \u001b[0;34m\"d_categorical_loss\"\u001b[0m\u001b[0;34m:\u001b[0m \u001b[0;34m[\u001b[0m\u001b[0;34m]\u001b[0m\u001b[0;34m,\u001b[0m\u001b[0;34m\u001b[0m\u001b[0;34m\u001b[0m\u001b[0m\n",
            "\u001b[0;31mFileNotFoundError\u001b[0m: [Errno 2] No such file or directory: './Results/IDS2018/log/log.txt'"
          ]
        }
      ],
      "source": [
        "log = open('./Results/IDS2018/log/log.txt').readlines()\n",
        "history = {\n",
        "    \"ae_loss\": [],\n",
        "    \"d_gauss_loss\": [],\n",
        "    \"d_categorical_loss\": [],\n",
        "    \"g_loss\": [],\n",
        "    \"supervised_loss\": []\n",
        "}\n",
        "for i in range(len(log)):\n",
        "    if i % 6:\n",
        "        loss = float(log[i].split(' ')[-1][:-1])\n",
        "        if i % 6 == 1:\n",
        "            history['ae_loss'] += [loss]\n",
        "        elif i % 6 == 2:\n",
        "            history['d_gauss_loss'] += [loss]\n",
        "        elif i % 6 == 3:\n",
        "            history['d_categorical_loss'] += [loss]\n",
        "        elif i % 6 == 4:\n",
        "            history['g_loss'] += [loss]\n",
        "        else:\n",
        "            history['supervised_loss'] += [loss]"
      ]
    },
    {
      "cell_type": "code",
      "execution_count": null,
      "metadata": {
        "id": "kEm7oJfs16Oy"
      },
      "outputs": [],
      "source": [
        "epochs = range(len(history['ae_loss']))\n",
        "plt.plot(epochs, history['g_loss'], 'g', label='g_loss')\n",
        "plt.plot(epochs, history['ae_loss'], 'b', label='ae_loss')\n",
        "plt.plot(epochs, history['d_gauss_loss'], 'r', label='d_gauss_loss')\n",
        "plt.plot(epochs, history['d_categorical_loss'], 'm', label='d_categorical_loss')\n",
        "plt.plot(epochs, history['supervised_loss'], 'k', label='supervised_loss')\n",
        "\n",
        "\n",
        "\n",
        "plt.title('ae and supervised loss')\n",
        "\n",
        "plt.xlabel('Epochs')\n",
        "\n",
        "plt.ylabel('Loss')\n",
        "\n",
        "plt.legend()\n",
        "\n",
        "plt.show()"
      ]
    },
    {
      "cell_type": "code",
      "execution_count": null,
      "metadata": {
        "colab": {
          "base_uri": "https://localhost:8080/"
        },
        "id": "V3syy6o3JXJw",
        "outputId": "5656cb5d-c9d5-42d2-f29b-c8f4ed722f91"
      },
      "outputs": [
        {
          "output_type": "stream",
          "name": "stdout",
          "text": [
            "/content/drive/MyDrive/AAE/AAE-PyTorch\n"
          ]
        }
      ],
      "source": [
        "cd /content/drive/MyDrive/AAE/AAE-PyTorch"
      ]
    },
    {
      "cell_type": "code",
      "execution_count": null,
      "metadata": {
        "id": "S8BbhP6LJT_f",
        "colab": {
          "base_uri": "https://localhost:8080/"
        },
        "outputId": "de13cfd7-4292-45ba-86c1-c9a67eecb9e8"
      },
      "outputs": [
        {
          "output_type": "stream",
          "name": "stdout",
          "text": [
            "Namespace(b1=0.5, b2=0.999, batch_size=64, channels=1, latent_dim=20, lr=0.001, n_classes=2, n_epochs=500, n_features=67, test_data='data/insdn_test.npy', train_data='data/insdn_train.npy')\n",
            "Loading data!\n",
            "[Epoch 0/500] [G loss: 0.040377] [D loss: 0.496556] [D_cat loss: 0.621503] [class_loss: 0.313455] [train_acc: 99.647423] [val_acc: 99.620522]\n",
            "[auc: 0.9914652349488762] [acc: 0.9962051818895578] [f1: 0.9976363619898029] [recall: 0.9993287129431402] [prec: 0.9959497332971703]\n",
            "[Epoch 1/500] [G loss: 0.012462] [D loss: 1.308565] [D_cat loss: 0.603825] [class_loss: 0.331006] [train_acc: 99.618347] [val_acc: 99.573990]\n",
            "[auc: 0.9903765271973131] [acc: 0.9957399168338713] [f1: 0.9973471919166312] [recall: 0.9992742842628543] [prec: 0.9954275180278687]\n",
            "[Epoch 2/500] [G loss: 0.022126] [D loss: 0.665948] [D_cat loss: 0.630175] [class_loss: 0.313421] [train_acc: 99.643791] [val_acc: 99.603073]\n",
            "[auc: 0.9908332738752907] [acc: 0.9960307074936753] [f1: 0.9975282709666905] [recall: 0.9994557131971407] [prec: 0.9956082485406011]\n",
            "[Epoch 3/500] [G loss: 0.023993] [D loss: 0.434439] [D_cat loss: 0.658930] [class_loss: 0.313347] [train_acc: 99.676506] [val_acc: 99.651054]\n",
            "[auc: 0.9919310530735681] [acc: 0.9965105120823519] [f1: 0.9978265594435991] [recall: 0.9995282847708552] [prec: 0.9961306187393772]\n",
            "[Epoch 4/500] [G loss: 0.016357] [D loss: 0.808261] [D_cat loss: 0.611813] [class_loss: 0.314618] [train_acc: 99.469322] [val_acc: 99.424232]\n",
            "[auc: 0.9917273054583758] [acc: 0.9942423449358807] [f1: 0.9964058812851698] [recall: 0.9958997060851265] [prec: 0.9969125712832807]\n",
            "[Epoch 5/500] [G loss: 0.022899] [D loss: 0.426282] [D_cat loss: 0.634133] [class_loss: 0.313369] [train_acc: 99.738297] [val_acc: 99.604523]\n",
            "[auc: 0.9924116564610457] [acc: 0.9960452470266655] [f1: 0.9975348027842229] [recall: 0.9984397111651366] [prec: 0.9966315331956971]\n",
            "[Epoch 6/500] [G loss: 0.021193] [D loss: 0.785866] [D_cat loss: 0.626889] [class_loss: 0.313299] [train_acc: 99.654694] [val_acc: 99.605980]\n",
            "[auc: 0.9905210354762897] [acc: 0.9960597865596557] [f1: 0.9975469563249605] [recall: 0.9997097137051417] [prec: 0.9953935364994491]\n",
            "[Epoch 7/500] [G loss: 0.033857] [D loss: 0.649068] [D_cat loss: 0.599499] [class_loss: 0.313452] [train_acc: 99.763741] [val_acc: 99.655411]\n",
            "[auc: 0.9932522608090606] [acc: 0.9965541306813225] [f1: 0.9978519572566684] [recall: 0.9987299974599949] [prec: 0.9969754595671466]\n",
            "[Epoch 8/500] [G loss: 0.027016] [D loss: 0.447782] [D_cat loss: 0.648240] [class_loss: 0.313337] [train_acc: 99.741928] [val_acc: 99.664139]\n",
            "[auc: 0.9925357998070106] [acc: 0.9966413678792637] [f1: 0.9979075139272612] [recall: 0.9993468558365688] [prec: 0.9964723121732366]\n",
            "[Epoch 9/500] [G loss: 0.024977] [D loss: 0.602080] [D_cat loss: 0.642009] [class_loss: 0.349421] [train_acc: 99.756470] [val_acc: 99.668495]\n",
            "[auc: 0.9927282047933683] [acc: 0.9966849864782343] [f1: 0.9979345206819704] [recall: 0.9992924271562829] [prec: 0.9965802996308895]\n",
            "[Epoch 10/500] [G loss: 0.022195] [D loss: 0.647627] [D_cat loss: 0.612609] [class_loss: 0.313282] [train_acc: 99.781914] [val_acc: 99.668495]\n",
            "[auc: 0.9931411814089053] [acc: 0.9966849864782343] [f1: 0.9979339591866324] [recall: 0.9990202837548532] [prec: 0.9968499945689562]\n",
            "[Epoch 11/500] [G loss: 0.026856] [D loss: 0.448141] [D_cat loss: 0.635184] [class_loss: 0.314012] [train_acc: 99.629250] [val_acc: 99.565269]\n",
            "[auc: 0.9925797040152959] [acc: 0.9956526796359301] [f1: 0.9972886950371332] [recall: 0.9976777096411336] [prec: 0.9968999836841247]\n",
            "[Epoch 12/500] [G loss: 0.037480] [D loss: 0.327966] [D_cat loss: 0.672073] [class_loss: 0.313280] [train_acc: 99.771011] [val_acc: 99.687401]\n",
            "[auc: 0.9933967690880373] [acc: 0.9968740004071069] [f1: 0.9980518127203037] [recall: 0.9991654269022824] [prec: 0.9969406781195127]\n",
            "[Epoch 13/500] [G loss: 0.026339] [D loss: 0.527443] [D_cat loss: 0.633142] [class_loss: 0.314087] [train_acc: 98.913200] [val_acc: 98.848473]\n",
            "[auc: 0.9920445245199213] [acc: 0.9884846898717613] [f1: 0.9927671232876711] [recall: 0.986138829420516] [prec: 0.9994851237541834]\n",
            "[Epoch 14/500] [G loss: 0.032294] [D loss: 0.290657] [D_cat loss: 0.670092] [class_loss: 0.313290] [train_acc: 99.676506] [val_acc: 99.632149]\n",
            "[auc: 0.991813124266282] [acc: 0.9963214981534793] [f1: 0.9977085616469373] [recall: 0.9992924271562829] [prec: 0.9961297090047565]\n",
            "\n"
          ]
        }
      ],
      "source": [
        "!python -W ignore aae_semi_supervised.py --latent_dim 20 --train_data \"data/insdn_train.npy\" --test_data \"data/insdn_test.npy\" --n_features 67"
      ]
    },
    {
      "cell_type": "code",
      "source": [
        "from importlib import reload\n",
        "import ids\n",
        "ids = reload(ids)"
      ],
      "metadata": {
        "id": "YEmmict2QPHc"
      },
      "execution_count": null,
      "outputs": []
    },
    {
      "cell_type": "code",
      "execution_count": null,
      "metadata": {
        "id": "LVvdWn1N7hjD"
      },
      "outputs": [],
      "source": [
        "model = torch.load('encoder_1')"
      ]
    },
    {
      "cell_type": "code",
      "source": [
        "model"
      ],
      "metadata": {
        "id": "cI5A0iezr_wL",
        "outputId": "7e4d30db-8dab-4587-a2c2-ea1814d220e1",
        "colab": {
          "base_uri": "https://localhost:8080/"
        }
      },
      "execution_count": null,
      "outputs": [
        {
          "output_type": "execute_result",
          "data": {
            "text/plain": [
              "Encoder(\n",
              "  (model): Sequential(\n",
              "    (0): Linear(in_features=67, out_features=1000, bias=True)\n",
              "    (1): ReLU(inplace=True)\n",
              "    (2): Linear(in_features=1000, out_features=1000, bias=True)\n",
              "    (3): ReLU(inplace=True)\n",
              "  )\n",
              "  (lin_D): Linear(in_features=1000, out_features=20, bias=True)\n",
              "  (lin_D_cat): Sequential(\n",
              "    (0): Linear(in_features=1000, out_features=2, bias=True)\n",
              "    (1): Softmax(dim=1)\n",
              "  )\n",
              ")"
            ]
          },
          "metadata": {},
          "execution_count": 37
        }
      ]
    },
    {
      "cell_type": "code",
      "source": [
        "test = np.load(\"data/insdn_test.npy\", allow_pickle=True)"
      ],
      "metadata": {
        "id": "9vL3g0LnayNi"
      },
      "execution_count": null,
      "outputs": []
    },
    {
      "cell_type": "code",
      "source": [
        "test_data = ids.load_data(test)"
      ],
      "metadata": {
        "id": "5H3p1a82VYjB"
      },
      "execution_count": null,
      "outputs": []
    },
    {
      "cell_type": "code",
      "source": [
        "ids.detect(model, test_data)"
      ],
      "metadata": {
        "colab": {
          "base_uri": "https://localhost:8080/"
        },
        "id": "RcmAcZSqe47I",
        "outputId": "7f6ce2ac-d4e5-464f-e3d0-69e18d4fa608"
      },
      "execution_count": null,
      "outputs": [
        {
          "output_type": "stream",
          "name": "stdout",
          "text": [
            "[0, 1, 0, 1, 1, 1, 1, 1, 1, 0, 1, 1, 0, 1, 0, 0, 1, 1, 1, 1, 1, 1, 1, 1, 1, 1, 1, 1, 1, 1, 1, 1, 1, 1, 0, 1, 1, 0, 1, 1, 1, 1, 0, 1, 1, 0, 1, 1, 1, 1, 1, 1, 1, 1, 1, 1, 0, 1, 1, 1, 1, 1, 1, 1]\n",
            "[0, 1, 0, 1, 1, 1, 1, 1, 1, 0, 1, 1, 0, 1, 0, 0, 1, 1, 1, 1, 1, 1, 1, 1, 1, 1, 1, 1, 1, 1, 1, 1, 1, 1, 0, 1, 1, 0, 1, 0, 1, 1, 0, 1, 1, 0, 1, 1, 1, 1, 1, 1, 1, 1, 1, 0, 0, 1, 1, 1, 0, 1, 1, 1]\n"
          ]
        }
      ]
    },
    {
      "cell_type": "markdown",
      "metadata": {
        "id": "ZD4cVUo_g5g3"
      },
      "source": [
        "# CTGAN GAN "
      ]
    },
    {
      "cell_type": "code",
      "execution_count": null,
      "metadata": {
        "colab": {
          "base_uri": "https://localhost:8080/"
        },
        "id": "p5Gageh9hzPF",
        "outputId": "924446af-7fb5-4f52-8b3e-bcfea2ece309"
      },
      "outputs": [
        {
          "output_type": "stream",
          "name": "stdout",
          "text": [
            "/content/drive/MyDrive/AAE/AAE-PyTorch\n"
          ]
        }
      ],
      "source": [
        "cd /content/drive/MyDrive/AAE/AAE-PyTorch"
      ]
    },
    {
      "cell_type": "code",
      "execution_count": null,
      "metadata": {
        "colab": {
          "base_uri": "https://localhost:8080/"
        },
        "id": "lSBNXorXh1G0",
        "outputId": "a6f27a5d-93e9-41fe-bc70-23ce5ed349f1"
      },
      "outputs": [
        {
          "name": "stdout",
          "output_type": "stream",
          "text": [
            " 1_new_insdn_train.npy           insdn_train_10%.npy\n",
            " aae_basic.py                    insdn_train_1%.npy\n",
            " aae_semi_supervised.py          insdn_train.npy\n",
            " aae_supervised.py               INSECLAB_test_1.npy\n",
            "'Copy of IDS2018_test_50%.npy'   INSECLAB_train_0.1%.npy\n",
            "'Copy of IDS2018_train_1%.npy'   INSECLAB_train_10%.npy\n",
            " create_datasets.py              INSECLAB_train_1%.npy\n",
            " \u001b[0m\u001b[01;34mdata\u001b[0m/                           new_insdn_train_5000.npy\n",
            " \u001b[01;34mFL\u001b[0m/                             new_insdn_train.npy\n",
            " gan-model-insdn-1%.pkl          \u001b[01;34m__pycache__\u001b[0m/\n",
            " gan-model-insdn-ctgan.pkl       README.md\n",
            " img_dataloader.py               sub.py\n",
            " insdn_test_1.npy                UNSW_test.npy\n",
            " insdn_test_2.npy                UNSW_train.npy\n",
            " insdn_test.npy                  utills.py\n",
            " insdn_train_0.1%.npy\n"
          ]
        }
      ],
      "source": [
        "ls"
      ]
    },
    {
      "cell_type": "code",
      "execution_count": null,
      "metadata": {
        "id": "60MFYdvrChF6"
      },
      "outputs": [],
      "source": [
        "!pip install sdv"
      ]
    },
    {
      "cell_type": "code",
      "source": [
        "!pip install ctgan"
      ],
      "metadata": {
        "id": "uO8fEy70DrYX"
      },
      "execution_count": null,
      "outputs": []
    },
    {
      "cell_type": "code",
      "execution_count": null,
      "metadata": {
        "id": "nukImRX6gih1"
      },
      "outputs": [],
      "source": [
        "import numpy as np\n",
        "import pandas as pd\n",
        "from ctgan import CTGANSynthesizer"
      ]
    },
    {
      "cell_type": "code",
      "execution_count": null,
      "metadata": {
        "id": "2gpFuSxyhA5A"
      },
      "outputs": [],
      "source": [
        "data = np.load('data/insdn_train_0.1%.npy', allow_pickle=True)\n",
        "columns = ['Src Port', 'Dst Port', 'Protocol', 'Flow Duration', 'Tot Fwd Pkts',\n",
        "       'Tot Bwd Pkts', 'TotLen Fwd Pkts', 'TotLen Bwd Pkts', 'Fwd Pkt Len Max',\n",
        "       'Fwd Pkt Len Min', 'Fwd Pkt Len Mean', 'Fwd Pkt Len Std',\n",
        "       'Bwd Pkt Len Max', 'Bwd Pkt Len Min', 'Bwd Pkt Len Mean',\n",
        "       'Bwd Pkt Len Std', 'Flow Byts/s', 'Flow Pkts/s', 'Flow IAT Mean',\n",
        "       'Flow IAT Std', 'Flow IAT Max', 'Flow IAT Min', 'Fwd IAT Tot',\n",
        "       'Fwd IAT Mean', 'Fwd IAT Std', 'Fwd IAT Max', 'Fwd IAT Min',\n",
        "       'Bwd IAT Tot', 'Bwd IAT Mean', 'Bwd IAT Std', 'Bwd IAT Max',\n",
        "       'Bwd IAT Min', 'Bwd PSH Flags', 'Bwd URG Flags', 'Fwd Header Len',\n",
        "       'Bwd Header Len', 'Fwd Pkts/s', 'Bwd Pkts/s', 'Pkt Len Min',\n",
        "       'Pkt Len Max', 'Pkt Len Mean', 'Pkt Len Std', 'Pkt Len Var',\n",
        "       'FIN Flag Cnt', 'SYN Flag Cnt', 'RST Flag Cnt', 'PSH Flag Cnt',\n",
        "       'ACK Flag Cnt', 'URG Flag Cnt', 'Down/Up Ratio', 'Pkt Size Avg',\n",
        "       'Fwd Seg Size Avg', 'Bwd Seg Size Avg', 'Subflow Fwd Pkts',\n",
        "       'Subflow Fwd Byts', 'Subflow Bwd Pkts', 'Subflow Bwd Byts',\n",
        "       'Init Bwd Win Byts', 'Fwd Act Data Pkts', 'Active Mean', 'Active Std',\n",
        "       'Active Max', 'Active Min', 'Idle Mean', 'Idle Std', 'Idle Max',\n",
        "       'Idle Min', 'Label']\n",
        "data = pd.DataFrame(data, columns=columns)"
      ]
    },
    {
      "cell_type": "code",
      "execution_count": null,
      "metadata": {
        "colab": {
          "base_uri": "https://localhost:8080/"
        },
        "id": "smWXPtRqkJWS",
        "outputId": "bf8188d9-a4b7-4674-a45d-566e61b5dc2f"
      },
      "outputs": [
        {
          "output_type": "execute_result",
          "data": {
            "text/plain": [
              "1    220\n",
              "0     54\n",
              "Name: Label, dtype: int64"
            ]
          },
          "metadata": {},
          "execution_count": 52
        }
      ],
      "source": [
        "data['Label'].value_counts()"
      ]
    },
    {
      "cell_type": "code",
      "execution_count": null,
      "metadata": {
        "id": "R3v9UFCjkQGv",
        "colab": {
          "base_uri": "https://localhost:8080/"
        },
        "outputId": "9440d35b-c056-4fe2-dcba-967af2116f91"
      },
      "outputs": [
        {
          "output_type": "stream",
          "name": "stderr",
          "text": [
            "/usr/local/lib/python3.7/dist-packages/pandas/core/frame.py:3678: PerformanceWarning: DataFrame is highly fragmented.  This is usually the result of calling `frame.insert` many times, which has poor performance.  Consider joining all columns at once using pd.concat(axis=1) instead.  To get a de-fragmented frame, use `newframe = frame.copy()`\n",
            "  self[col] = igetitem(value, i)\n"
          ]
        }
      ],
      "source": [
        "ctgan = CTGANSynthesizer(epochs=1000)\n",
        "ctgan.fit(data, columns)"
      ]
    },
    {
      "cell_type": "code",
      "execution_count": null,
      "metadata": {
        "id": "_rJK4kmIkzk6"
      },
      "outputs": [],
      "source": [
        "ctgan.save('gan-model-insdn-1%.pkl')"
      ]
    },
    {
      "cell_type": "code",
      "execution_count": null,
      "metadata": {
        "id": "50fExEO3k4P4"
      },
      "outputs": [],
      "source": [
        "new_data = ctgan.sample(1000)"
      ]
    },
    {
      "cell_type": "code",
      "execution_count": null,
      "metadata": {
        "id": "OW991YG9k7QE"
      },
      "outputs": [],
      "source": [
        "df = pd.concat([data, new_data], ignore_index=True)"
      ]
    },
    {
      "cell_type": "code",
      "execution_count": null,
      "metadata": {
        "id": "JsqBkiSkk9mb"
      },
      "outputs": [],
      "source": [
        "df = df.sample(frac=1).reset_index(drop=True)"
      ]
    },
    {
      "cell_type": "code",
      "source": [
        "df"
      ],
      "metadata": {
        "colab": {
          "base_uri": "https://localhost:8080/",
          "height": 540
        },
        "id": "mEmO28swrmXv",
        "outputId": "9c171f78-8f0b-46e6-83a1-beaf2d6e1b4f"
      },
      "execution_count": null,
      "outputs": [
        {
          "output_type": "execute_result",
          "data": {
            "text/plain": [
              "     Src Port Dst Port Protocol Flow Duration Tot Fwd Pkts Tot Bwd Pkts  \\\n",
              "0          80       53        6       2062832            2            4   \n",
              "1         443       80        6       3694070            2            2   \n",
              "2           0      443        6            18            2            2   \n",
              "3       44933      443        6             7            3           38   \n",
              "4       42636      443        6      38965275          275          309   \n",
              "...       ...      ...      ...           ...          ...          ...   \n",
              "1269    34380        0        6      70506655            0            2   \n",
              "1270    44344     1401       17      62265528            0            4   \n",
              "1271        0        0        6          6843            0            2   \n",
              "1272    37910       80        6         42282            4            4   \n",
              "1273        0        0        0             3            0            2   \n",
              "\n",
              "     TotLen Fwd Pkts TotLen Bwd Pkts Fwd Pkt Len Max Fwd Pkt Len Min  ...  \\\n",
              "0              171.0           704.0               0               0  ...   \n",
              "1                0.0             0.0               0               0  ...   \n",
              "2                0.0             0.0               0               0  ...   \n",
              "3             2491.0           502.0             369               0  ...   \n",
              "4             6443.0       1032291.0            1289               0  ...   \n",
              "...              ...             ...             ...             ...  ...   \n",
              "1269             0.0             0.0               0               0  ...   \n",
              "1270           270.0          1896.0            2048               0  ...   \n",
              "1271             0.0             0.0               0               0  ...   \n",
              "1272            30.0            30.0              30               0  ...   \n",
              "1273             0.0             0.0               0               0  ...   \n",
              "\n",
              "     Fwd Act Data Pkts  Active Mean   Active Std Active Max Active Min  \\\n",
              "0                    1          0.0          0.0        0.0        0.0   \n",
              "1                    0          0.0          0.0        0.0        0.0   \n",
              "2                    0          0.0          0.0        0.0        0.0   \n",
              "3                    0          0.0          0.0        0.0     2857.0   \n",
              "4                    7  1581985.667  1180463.849  2937739.0   781861.0   \n",
              "...                ...          ...          ...        ...        ...   \n",
              "1269                 0          0.0          0.0        0.0        0.0   \n",
              "1270                 1          0.0  76296.84796        0.0        0.0   \n",
              "1271                 0          0.0          0.0        0.0        0.0   \n",
              "1272                 1          0.0          0.0        0.0        0.0   \n",
              "1273                 0          0.0          0.0        0.0        0.0   \n",
              "\n",
              "        Idle Mean     Idle Std    Idle Max    Idle Min Label  \n",
              "0             0.0          0.0         0.0         0.0     1  \n",
              "1             0.0          0.0         0.0         0.0     1  \n",
              "2             0.0          0.0         0.0         0.0     1  \n",
              "3             0.0  164982.1542         0.0         0.0     1  \n",
              "4     8480657.333   2886608.01  10200000.0   5149152.0     0  \n",
              "...           ...          ...         ...         ...   ...  \n",
              "1269          0.0          0.0         0.0         0.0     1  \n",
              "1270          0.0          0.0         0.0  66800000.0     1  \n",
              "1271          0.0          0.0         0.0         0.0     1  \n",
              "1272          0.0          0.0         0.0         0.0     1  \n",
              "1273          0.0          0.0         0.0         0.0     1  \n",
              "\n",
              "[1274 rows x 68 columns]"
            ],
            "text/html": [
              "\n",
              "  <div id=\"df-00171a19-e26c-49c8-8713-8e21b429c2ab\">\n",
              "    <div class=\"colab-df-container\">\n",
              "      <div>\n",
              "<style scoped>\n",
              "    .dataframe tbody tr th:only-of-type {\n",
              "        vertical-align: middle;\n",
              "    }\n",
              "\n",
              "    .dataframe tbody tr th {\n",
              "        vertical-align: top;\n",
              "    }\n",
              "\n",
              "    .dataframe thead th {\n",
              "        text-align: right;\n",
              "    }\n",
              "</style>\n",
              "<table border=\"1\" class=\"dataframe\">\n",
              "  <thead>\n",
              "    <tr style=\"text-align: right;\">\n",
              "      <th></th>\n",
              "      <th>Src Port</th>\n",
              "      <th>Dst Port</th>\n",
              "      <th>Protocol</th>\n",
              "      <th>Flow Duration</th>\n",
              "      <th>Tot Fwd Pkts</th>\n",
              "      <th>Tot Bwd Pkts</th>\n",
              "      <th>TotLen Fwd Pkts</th>\n",
              "      <th>TotLen Bwd Pkts</th>\n",
              "      <th>Fwd Pkt Len Max</th>\n",
              "      <th>Fwd Pkt Len Min</th>\n",
              "      <th>...</th>\n",
              "      <th>Fwd Act Data Pkts</th>\n",
              "      <th>Active Mean</th>\n",
              "      <th>Active Std</th>\n",
              "      <th>Active Max</th>\n",
              "      <th>Active Min</th>\n",
              "      <th>Idle Mean</th>\n",
              "      <th>Idle Std</th>\n",
              "      <th>Idle Max</th>\n",
              "      <th>Idle Min</th>\n",
              "      <th>Label</th>\n",
              "    </tr>\n",
              "  </thead>\n",
              "  <tbody>\n",
              "    <tr>\n",
              "      <th>0</th>\n",
              "      <td>80</td>\n",
              "      <td>53</td>\n",
              "      <td>6</td>\n",
              "      <td>2062832</td>\n",
              "      <td>2</td>\n",
              "      <td>4</td>\n",
              "      <td>171.0</td>\n",
              "      <td>704.0</td>\n",
              "      <td>0</td>\n",
              "      <td>0</td>\n",
              "      <td>...</td>\n",
              "      <td>1</td>\n",
              "      <td>0.0</td>\n",
              "      <td>0.0</td>\n",
              "      <td>0.0</td>\n",
              "      <td>0.0</td>\n",
              "      <td>0.0</td>\n",
              "      <td>0.0</td>\n",
              "      <td>0.0</td>\n",
              "      <td>0.0</td>\n",
              "      <td>1</td>\n",
              "    </tr>\n",
              "    <tr>\n",
              "      <th>1</th>\n",
              "      <td>443</td>\n",
              "      <td>80</td>\n",
              "      <td>6</td>\n",
              "      <td>3694070</td>\n",
              "      <td>2</td>\n",
              "      <td>2</td>\n",
              "      <td>0.0</td>\n",
              "      <td>0.0</td>\n",
              "      <td>0</td>\n",
              "      <td>0</td>\n",
              "      <td>...</td>\n",
              "      <td>0</td>\n",
              "      <td>0.0</td>\n",
              "      <td>0.0</td>\n",
              "      <td>0.0</td>\n",
              "      <td>0.0</td>\n",
              "      <td>0.0</td>\n",
              "      <td>0.0</td>\n",
              "      <td>0.0</td>\n",
              "      <td>0.0</td>\n",
              "      <td>1</td>\n",
              "    </tr>\n",
              "    <tr>\n",
              "      <th>2</th>\n",
              "      <td>0</td>\n",
              "      <td>443</td>\n",
              "      <td>6</td>\n",
              "      <td>18</td>\n",
              "      <td>2</td>\n",
              "      <td>2</td>\n",
              "      <td>0.0</td>\n",
              "      <td>0.0</td>\n",
              "      <td>0</td>\n",
              "      <td>0</td>\n",
              "      <td>...</td>\n",
              "      <td>0</td>\n",
              "      <td>0.0</td>\n",
              "      <td>0.0</td>\n",
              "      <td>0.0</td>\n",
              "      <td>0.0</td>\n",
              "      <td>0.0</td>\n",
              "      <td>0.0</td>\n",
              "      <td>0.0</td>\n",
              "      <td>0.0</td>\n",
              "      <td>1</td>\n",
              "    </tr>\n",
              "    <tr>\n",
              "      <th>3</th>\n",
              "      <td>44933</td>\n",
              "      <td>443</td>\n",
              "      <td>6</td>\n",
              "      <td>7</td>\n",
              "      <td>3</td>\n",
              "      <td>38</td>\n",
              "      <td>2491.0</td>\n",
              "      <td>502.0</td>\n",
              "      <td>369</td>\n",
              "      <td>0</td>\n",
              "      <td>...</td>\n",
              "      <td>0</td>\n",
              "      <td>0.0</td>\n",
              "      <td>0.0</td>\n",
              "      <td>0.0</td>\n",
              "      <td>2857.0</td>\n",
              "      <td>0.0</td>\n",
              "      <td>164982.1542</td>\n",
              "      <td>0.0</td>\n",
              "      <td>0.0</td>\n",
              "      <td>1</td>\n",
              "    </tr>\n",
              "    <tr>\n",
              "      <th>4</th>\n",
              "      <td>42636</td>\n",
              "      <td>443</td>\n",
              "      <td>6</td>\n",
              "      <td>38965275</td>\n",
              "      <td>275</td>\n",
              "      <td>309</td>\n",
              "      <td>6443.0</td>\n",
              "      <td>1032291.0</td>\n",
              "      <td>1289</td>\n",
              "      <td>0</td>\n",
              "      <td>...</td>\n",
              "      <td>7</td>\n",
              "      <td>1581985.667</td>\n",
              "      <td>1180463.849</td>\n",
              "      <td>2937739.0</td>\n",
              "      <td>781861.0</td>\n",
              "      <td>8480657.333</td>\n",
              "      <td>2886608.01</td>\n",
              "      <td>10200000.0</td>\n",
              "      <td>5149152.0</td>\n",
              "      <td>0</td>\n",
              "    </tr>\n",
              "    <tr>\n",
              "      <th>...</th>\n",
              "      <td>...</td>\n",
              "      <td>...</td>\n",
              "      <td>...</td>\n",
              "      <td>...</td>\n",
              "      <td>...</td>\n",
              "      <td>...</td>\n",
              "      <td>...</td>\n",
              "      <td>...</td>\n",
              "      <td>...</td>\n",
              "      <td>...</td>\n",
              "      <td>...</td>\n",
              "      <td>...</td>\n",
              "      <td>...</td>\n",
              "      <td>...</td>\n",
              "      <td>...</td>\n",
              "      <td>...</td>\n",
              "      <td>...</td>\n",
              "      <td>...</td>\n",
              "      <td>...</td>\n",
              "      <td>...</td>\n",
              "      <td>...</td>\n",
              "    </tr>\n",
              "    <tr>\n",
              "      <th>1269</th>\n",
              "      <td>34380</td>\n",
              "      <td>0</td>\n",
              "      <td>6</td>\n",
              "      <td>70506655</td>\n",
              "      <td>0</td>\n",
              "      <td>2</td>\n",
              "      <td>0.0</td>\n",
              "      <td>0.0</td>\n",
              "      <td>0</td>\n",
              "      <td>0</td>\n",
              "      <td>...</td>\n",
              "      <td>0</td>\n",
              "      <td>0.0</td>\n",
              "      <td>0.0</td>\n",
              "      <td>0.0</td>\n",
              "      <td>0.0</td>\n",
              "      <td>0.0</td>\n",
              "      <td>0.0</td>\n",
              "      <td>0.0</td>\n",
              "      <td>0.0</td>\n",
              "      <td>1</td>\n",
              "    </tr>\n",
              "    <tr>\n",
              "      <th>1270</th>\n",
              "      <td>44344</td>\n",
              "      <td>1401</td>\n",
              "      <td>17</td>\n",
              "      <td>62265528</td>\n",
              "      <td>0</td>\n",
              "      <td>4</td>\n",
              "      <td>270.0</td>\n",
              "      <td>1896.0</td>\n",
              "      <td>2048</td>\n",
              "      <td>0</td>\n",
              "      <td>...</td>\n",
              "      <td>1</td>\n",
              "      <td>0.0</td>\n",
              "      <td>76296.84796</td>\n",
              "      <td>0.0</td>\n",
              "      <td>0.0</td>\n",
              "      <td>0.0</td>\n",
              "      <td>0.0</td>\n",
              "      <td>0.0</td>\n",
              "      <td>66800000.0</td>\n",
              "      <td>1</td>\n",
              "    </tr>\n",
              "    <tr>\n",
              "      <th>1271</th>\n",
              "      <td>0</td>\n",
              "      <td>0</td>\n",
              "      <td>6</td>\n",
              "      <td>6843</td>\n",
              "      <td>0</td>\n",
              "      <td>2</td>\n",
              "      <td>0.0</td>\n",
              "      <td>0.0</td>\n",
              "      <td>0</td>\n",
              "      <td>0</td>\n",
              "      <td>...</td>\n",
              "      <td>0</td>\n",
              "      <td>0.0</td>\n",
              "      <td>0.0</td>\n",
              "      <td>0.0</td>\n",
              "      <td>0.0</td>\n",
              "      <td>0.0</td>\n",
              "      <td>0.0</td>\n",
              "      <td>0.0</td>\n",
              "      <td>0.0</td>\n",
              "      <td>1</td>\n",
              "    </tr>\n",
              "    <tr>\n",
              "      <th>1272</th>\n",
              "      <td>37910</td>\n",
              "      <td>80</td>\n",
              "      <td>6</td>\n",
              "      <td>42282</td>\n",
              "      <td>4</td>\n",
              "      <td>4</td>\n",
              "      <td>30.0</td>\n",
              "      <td>30.0</td>\n",
              "      <td>30</td>\n",
              "      <td>0</td>\n",
              "      <td>...</td>\n",
              "      <td>1</td>\n",
              "      <td>0.0</td>\n",
              "      <td>0.0</td>\n",
              "      <td>0.0</td>\n",
              "      <td>0.0</td>\n",
              "      <td>0.0</td>\n",
              "      <td>0.0</td>\n",
              "      <td>0.0</td>\n",
              "      <td>0.0</td>\n",
              "      <td>1</td>\n",
              "    </tr>\n",
              "    <tr>\n",
              "      <th>1273</th>\n",
              "      <td>0</td>\n",
              "      <td>0</td>\n",
              "      <td>0</td>\n",
              "      <td>3</td>\n",
              "      <td>0</td>\n",
              "      <td>2</td>\n",
              "      <td>0.0</td>\n",
              "      <td>0.0</td>\n",
              "      <td>0</td>\n",
              "      <td>0</td>\n",
              "      <td>...</td>\n",
              "      <td>0</td>\n",
              "      <td>0.0</td>\n",
              "      <td>0.0</td>\n",
              "      <td>0.0</td>\n",
              "      <td>0.0</td>\n",
              "      <td>0.0</td>\n",
              "      <td>0.0</td>\n",
              "      <td>0.0</td>\n",
              "      <td>0.0</td>\n",
              "      <td>1</td>\n",
              "    </tr>\n",
              "  </tbody>\n",
              "</table>\n",
              "<p>1274 rows × 68 columns</p>\n",
              "</div>\n",
              "      <button class=\"colab-df-convert\" onclick=\"convertToInteractive('df-00171a19-e26c-49c8-8713-8e21b429c2ab')\"\n",
              "              title=\"Convert this dataframe to an interactive table.\"\n",
              "              style=\"display:none;\">\n",
              "        \n",
              "  <svg xmlns=\"http://www.w3.org/2000/svg\" height=\"24px\"viewBox=\"0 0 24 24\"\n",
              "       width=\"24px\">\n",
              "    <path d=\"M0 0h24v24H0V0z\" fill=\"none\"/>\n",
              "    <path d=\"M18.56 5.44l.94 2.06.94-2.06 2.06-.94-2.06-.94-.94-2.06-.94 2.06-2.06.94zm-11 1L8.5 8.5l.94-2.06 2.06-.94-2.06-.94L8.5 2.5l-.94 2.06-2.06.94zm10 10l.94 2.06.94-2.06 2.06-.94-2.06-.94-.94-2.06-.94 2.06-2.06.94z\"/><path d=\"M17.41 7.96l-1.37-1.37c-.4-.4-.92-.59-1.43-.59-.52 0-1.04.2-1.43.59L10.3 9.45l-7.72 7.72c-.78.78-.78 2.05 0 2.83L4 21.41c.39.39.9.59 1.41.59.51 0 1.02-.2 1.41-.59l7.78-7.78 2.81-2.81c.8-.78.8-2.07 0-2.86zM5.41 20L4 18.59l7.72-7.72 1.47 1.35L5.41 20z\"/>\n",
              "  </svg>\n",
              "      </button>\n",
              "      \n",
              "  <style>\n",
              "    .colab-df-container {\n",
              "      display:flex;\n",
              "      flex-wrap:wrap;\n",
              "      gap: 12px;\n",
              "    }\n",
              "\n",
              "    .colab-df-convert {\n",
              "      background-color: #E8F0FE;\n",
              "      border: none;\n",
              "      border-radius: 50%;\n",
              "      cursor: pointer;\n",
              "      display: none;\n",
              "      fill: #1967D2;\n",
              "      height: 32px;\n",
              "      padding: 0 0 0 0;\n",
              "      width: 32px;\n",
              "    }\n",
              "\n",
              "    .colab-df-convert:hover {\n",
              "      background-color: #E2EBFA;\n",
              "      box-shadow: 0px 1px 2px rgba(60, 64, 67, 0.3), 0px 1px 3px 1px rgba(60, 64, 67, 0.15);\n",
              "      fill: #174EA6;\n",
              "    }\n",
              "\n",
              "    [theme=dark] .colab-df-convert {\n",
              "      background-color: #3B4455;\n",
              "      fill: #D2E3FC;\n",
              "    }\n",
              "\n",
              "    [theme=dark] .colab-df-convert:hover {\n",
              "      background-color: #434B5C;\n",
              "      box-shadow: 0px 1px 3px 1px rgba(0, 0, 0, 0.15);\n",
              "      filter: drop-shadow(0px 1px 2px rgba(0, 0, 0, 0.3));\n",
              "      fill: #FFFFFF;\n",
              "    }\n",
              "  </style>\n",
              "\n",
              "      <script>\n",
              "        const buttonEl =\n",
              "          document.querySelector('#df-00171a19-e26c-49c8-8713-8e21b429c2ab button.colab-df-convert');\n",
              "        buttonEl.style.display =\n",
              "          google.colab.kernel.accessAllowed ? 'block' : 'none';\n",
              "\n",
              "        async function convertToInteractive(key) {\n",
              "          const element = document.querySelector('#df-00171a19-e26c-49c8-8713-8e21b429c2ab');\n",
              "          const dataTable =\n",
              "            await google.colab.kernel.invokeFunction('convertToInteractive',\n",
              "                                                     [key], {});\n",
              "          if (!dataTable) return;\n",
              "\n",
              "          const docLinkHtml = 'Like what you see? Visit the ' +\n",
              "            '<a target=\"_blank\" href=https://colab.research.google.com/notebooks/data_table.ipynb>data table notebook</a>'\n",
              "            + ' to learn more about interactive tables.';\n",
              "          element.innerHTML = '';\n",
              "          dataTable['output_type'] = 'display_data';\n",
              "          await google.colab.output.renderOutput(dataTable, element);\n",
              "          const docLink = document.createElement('div');\n",
              "          docLink.innerHTML = docLinkHtml;\n",
              "          element.appendChild(docLink);\n",
              "        }\n",
              "      </script>\n",
              "    </div>\n",
              "  </div>\n",
              "  "
            ]
          },
          "metadata": {},
          "execution_count": 57
        }
      ]
    },
    {
      "cell_type": "code",
      "execution_count": null,
      "metadata": {
        "id": "CcskunSXlATk"
      },
      "outputs": [],
      "source": [
        "name = 'new_insdn_train'\n",
        "df_np = df.to_numpy()\n",
        "np.save(name, df_np)"
      ]
    },
    {
      "cell_type": "code",
      "execution_count": null,
      "metadata": {
        "colab": {
          "base_uri": "https://localhost:8080/"
        },
        "id": "Aq_LXZWtl8HZ",
        "outputId": "9b13f928-a034-4523-89a2-795f9d117c77"
      },
      "outputs": [
        {
          "output_type": "execute_result",
          "data": {
            "text/plain": [
              "1    814\n",
              "0    460\n",
              "Name: Label, dtype: int64"
            ]
          },
          "metadata": {},
          "execution_count": 47
        }
      ],
      "source": [
        "df['Label'].value_counts()"
      ]
    },
    {
      "cell_type": "code",
      "execution_count": null,
      "metadata": {
        "id": "ADDaFUITl-0P"
      },
      "outputs": [],
      "source": [
        ""
      ]
    }
  ],
  "metadata": {
    "accelerator": "GPU",
    "colab": {
      "collapsed_sections": [],
      "name": "AAE.ipynb",
      "provenance": []
    },
    "kernelspec": {
      "display_name": "Python 3",
      "name": "python3"
    },
    "language_info": {
      "name": "python"
    }
  },
  "nbformat": 4,
  "nbformat_minor": 0
}